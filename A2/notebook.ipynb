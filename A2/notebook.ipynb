{
 "cells": [
  {
   "cell_type": "markdown",
   "metadata": {},
   "source": [
    "## Part 1: Analyze the Fake News Dataset"
   ]
  },
  {
   "cell_type": "code",
   "execution_count": 9,
   "metadata": {},
   "outputs": [
    {
     "name": "stderr",
     "output_type": "stream",
     "text": [
      "[nltk_data] Downloading package punkt_tab to\n",
      "[nltk_data]     C:\\Users\\Mariu\\AppData\\Roaming\\nltk_data...\n",
      "[nltk_data]   Package punkt_tab is already up-to-date!\n"
     ]
    },
    {
     "name": "stdout",
     "output_type": "stream",
     "text": [
      "unique words in raw text: 20948\n",
      "unique words in cleaned text: 16608\n",
      "type\n",
      "fake        186\n",
      "reliable     21\n",
      "Name: count, dtype: int64\n",
      "type\n",
      "fake        0.898551\n",
      "reliable    0.101449\n",
      "Name: proportion, dtype: float64\n"
     ]
    }
   ],
   "source": [
    "# 1: Import Dataset\n",
    "\n",
    "import nltk\n",
    "import matplotlib.pyplot as plt\n",
    "from collections import Counter\n",
    "import pandas as pd\n",
    "from nltk.tokenize import word_tokenize\n",
    "from cleantext import clean\n",
    "\n",
    "nltk.download('punkt_tab')\n",
    "\n",
    "# 1: Read the CSV file and save the original\n",
    "df = pd.read_csv(\"news_sample.csv\")\n",
    "\n",
    "# Save the original raw text before cleaning\n",
    "df['raw_content'] = df['content']\n",
    "\n",
    "def clean_text_lib(text):\n",
    "   return clean(text,\n",
    "               lower=True,\n",
    "               no_line_breaks=True,\n",
    "               no_urls=True,\n",
    "               no_emails=True,\n",
    "               no_numbers=True,\n",
    "               no_punct=True)\n",
    "    \n",
    "# 2: Clean the data \n",
    "df['clean_content'] = df['content'].apply(lambda x: clean_text_lib(x) if isinstance(x, str) else \"\")\n",
    "\n",
    "# 3: get all raw data from 'content'\n",
    "raw_text = \" \".join(df['content'].dropna().tolist())\n",
    "raw_tokens = word_tokenize(raw_text)\n",
    "unique_raw_words = set(raw_tokens)\n",
    "print(\"unique words in raw text:\", len(unique_raw_words))\n",
    "\n",
    "# Get all cleaned text from the new \"clean_content\" \n",
    "clean_text_all = \" \".join(df['clean_content'].dropna().tolist())\n",
    "clean_tokens = word_tokenize(clean_text_all)\n",
    "unique_clean_words = set(clean_tokens)\n",
    "print(\"unique words in cleaned text:\", len(unique_clean_words))\n",
    "\n",
    "# number of each word in cleaned text\n",
    "word_freq = Counter(clean_tokens)\n",
    "most_common_50 = word_freq.most_common(50)\n",
    "\n",
    "# Extract words and frequencies\n",
    "words, frequencies = zip(*most_common_50)\n",
    "\n",
    "# Plot the 50 most frequent words\n",
    "#plt.figure(figsize=(15, 5))\n",
    "#plt.bar(words, frequencies)\n",
    "#plt.xlabel(\"Words\")\n",
    "#plt.ylabel(\"Frequency\")\n",
    "#plt.title(\"50 Most frequent words in cleaned text\")\n",
    "#plt.xticks(rotation=90)\n",
    "#plt.tight_layout()\n",
    "#plt.show()\n",
    "\n",
    "\n",
    "\n",
    "\n",
    "\n",
    "# 2: Dataset Analysis\n",
    "\n",
    "# A: Determine which article types should be omitted, if any.\n",
    "\n",
    "# leave out satire (just humor)\n",
    "df = df[df['type'] != 'satire']\n",
    "# Has no data\n",
    "df = df[df['type'] != 'state']\n",
    "# misleading science\n",
    "df = df[df['type'] != 'junksci']\n",
    "# not reliable, just hate\n",
    "df = df[df['type'] != 'hate']\n",
    "# exaggerated\n",
    "df = df[df['type'] != 'clickbait']\n",
    "# specefic viewpoint\n",
    "df = df[df['type'] != 'political']\n",
    "\n",
    "\n",
    "\n",
    "# B: Group the remaining types into 'fake' and 'reliable'. Argue for your choice.\n",
    "\n",
    "# fake\n",
    "df['type'] = df['type'].replace(['conspiracy', 'fake'], 'fake')\n",
    "\n",
    "\n",
    "#reliable\n",
    "df['type'] = df['type'].replace(['unreliable', 'bias', 'unreliable', 'unknown'], 'reliable')\n",
    "print(df['type'].value_counts())\n",
    "\n",
    "# C: Examine the percentage distribution of 'reliable' vs. 'fake' articles. Is the dataset balanced? Discuss the importance of a balanced distribution.\n",
    "\n",
    "# reliable vs fake - percentage\n",
    "print(df['type'].value_counts(normalize=True))\n"
   ]
  },
  {
   "cell_type": "markdown",
   "metadata": {},
   "source": [
    "## Part 2: Gathering Links"
   ]
  },
  {
   "cell_type": "code",
   "execution_count": 10,
   "metadata": {},
   "outputs": [],
   "source": [
    "# 1: Library installation\n",
    "import requests\n",
    "from bs4 import BeautifulSoup\n",
    "\n",
    "# 2: Retrieve HTML Content\n",
    "response = requests.get('https://www.bbc.com/news/world/europe')\n",
    "contents = response.text\n",
    "\n",
    "# 3: Extract Articles\n",
    "soup = BeautifulSoup(contents, 'html.parser')\n"
   ]
  },
  {
   "cell_type": "markdown",
   "metadata": {},
   "source": [
    "## Part 3: Scraping Article Text"
   ]
  },
  {
   "cell_type": "code",
   "execution_count": 11,
   "metadata": {},
   "outputs": [],
   "source": [
    "# 1: Article Inspection\n",
    "\n",
    "# 2: Text Scraping Function\n",
    "\n",
    "# 3: Scrape All Articles\n",
    "\n",
    "# 4: Data Storage\n",
    "\n",
    "# 5: Discussion"
   ]
  },
  {
   "cell_type": "markdown",
   "metadata": {},
   "source": [
    "## Part 4: Preservation\n",
    "Keep the data that you have scraped so you can use it for your Group Project!"
   ]
  }
 ],
 "metadata": {
  "kernelspec": {
   "display_name": "Python 3",
   "language": "python",
   "name": "python3"
  },
  "language_info": {
   "codemirror_mode": {
    "name": "ipython",
    "version": 3
   },
   "file_extension": ".py",
   "mimetype": "text/x-python",
   "name": "python",
   "nbconvert_exporter": "python",
   "pygments_lexer": "ipython3",
   "version": "3.11.1"
  }
 },
 "nbformat": 4,
 "nbformat_minor": 2
}
