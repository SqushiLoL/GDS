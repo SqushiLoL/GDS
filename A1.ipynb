{
 "cells": [
  {
   "cell_type": "code",
   "execution_count": 41,
   "metadata": {},
   "outputs": [],
   "source": [
    "import pandas as pd\n",
    "\n",
    "# Read csv file\n",
    "df = pd.read_csv(\"news_sample.csv\")\n",
    "\n",
    "# display head\n",
    "#print(df.head())\n"
   ]
  },
  {
   "cell_type": "code",
   "execution_count": 42,
   "metadata": {},
   "outputs": [
    {
     "name": "stdout",
     "output_type": "stream",
     "text": [
      "Valid CPR: 0102031234 -> DD: 01, MM: 02, YY: 03, IIII: 1234\n",
      "Valid CPR: 010203-1234 -> DD: 01, MM: 02, YY: 03, IIII: 1234\n",
      "Valid CPR: 3112995678 -> DD: 31, MM: 12, YY: 99, IIII: 5678\n",
      "Valid CPR: 311299-5678 -> DD: 31, MM: 12, YY: 99, IIII: 5678\n",
      "Invalid CPR: 1234567890\n"
     ]
    }
   ],
   "source": [
    "import re\n",
    "\n",
    "# a)\n",
    "# six-digit date (DDMMYY) followed by 4 digit identifier (IIII)\n",
    "# show either DDMMYYIIII or DDMMYY-IIII format\n",
    "\n",
    "\n",
    "cpr_pattern = r'\\b((?:0[1-9]|[12][0-9]|3[01]))((?:0[1-9]|1[0-2]))(\\d{2})-?(\\d{4})\\b'\n",
    "\n",
    "def extract_cpr(cpr_num):\n",
    "    match = re.fullmatch(cpr_pattern, cpr_num)\n",
    "    if match:\n",
    "        return match.groups()\n",
    "    else:\n",
    "        return None\n",
    "\n",
    "test_cprs = [\"0102031234\", \"010203-1234\", \"3112995678\", \"311299-5678\", \"1234567890\"]\n",
    "\n",
    "for cpr in test_cprs:\n",
    "    result = extract_cpr(cpr)\n",
    "    if result:\n",
    "        print(f\"Valid CPR: {cpr} -> DD: {result[0]}, MM: {result[1]}, YY: {result[2]}, IIII: {result[3]}\")\n",
    "    else:\n",
    "        print(f\"Invalid CPR: {cpr}\")"
   ]
  }
 ],
 "metadata": {
  "kernelspec": {
   "display_name": "Python 3",
   "language": "python",
   "name": "python3"
  },
  "language_info": {
   "codemirror_mode": {
    "name": "ipython",
    "version": 3
   },
   "file_extension": ".py",
   "mimetype": "text/x-python",
   "name": "python",
   "nbconvert_exporter": "python",
   "pygments_lexer": "ipython3",
   "version": "3.11.1"
  }
 },
 "nbformat": 4,
 "nbformat_minor": 2
}
